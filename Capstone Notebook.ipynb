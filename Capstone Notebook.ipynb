{
    "cells": [
        {
            "metadata": {
                "collapsed": true
            },
            "cell_type": "markdown",
            "source": "# Final Assignment, Coursera IBM Data Science Capstone"
        },
        {
            "metadata": {},
            "cell_type": "markdown",
            "source": "## This notebook will be used to create and share all requirements from the last course"
        },
        {
            "metadata": {},
            "cell_type": "markdown",
            "source": "### 1) First assignment : Import librairies"
        },
        {
            "metadata": {},
            "cell_type": "code",
            "source": "import pandas as pd\nimport numpy as np",
            "execution_count": 1,
            "outputs": []
        },
        {
            "metadata": {},
            "cell_type": "code",
            "source": "print('Hello Capstone Project Course!')",
            "execution_count": 2,
            "outputs": [
                {
                    "output_type": "stream",
                    "text": "Hello Capstone Project Course!\n",
                    "name": "stdout"
                }
            ]
        },
        {
            "metadata": {},
            "cell_type": "markdown",
            "source": "### 2) Second assignment : Let's go Toronto"
        },
        {
            "metadata": {},
            "cell_type": "markdown",
            "source": "#### a) Scrapping Wikipedia"
        },
        {
            "metadata": {},
            "cell_type": "markdown",
            "source": "##### Import BS and requests, define Next Step to automatically stop in case of error"
        },
        {
            "metadata": {},
            "cell_type": "code",
            "source": "from bs4 import BeautifulSoup\nimport requests\nnext_step = True",
            "execution_count": 67,
            "outputs": []
        },
        {
            "metadata": {},
            "cell_type": "code",
            "source": "url = \"https://en.wikipedia.org/wiki/List_of_postal_codes_of_Canada:_M\"\nhtml_data = requests.get(url)",
            "execution_count": 43,
            "outputs": []
        },
        {
            "metadata": {},
            "cell_type": "markdown",
            "source": "##### Use BeautifulSoup to parse url"
        },
        {
            "metadata": {},
            "cell_type": "code",
            "source": "soup = BeautifulSoup(html_data.text, 'html.parser')",
            "execution_count": 44,
            "outputs": []
        },
        {
            "metadata": {},
            "cell_type": "markdown",
            "source": "##### The dataframe will consist of three columns: PostalCode, Borough, and Neighborhood"
        },
        {
            "metadata": {},
            "cell_type": "code",
            "source": "toronto_neighborhoods_source = pd.DataFrame(columns=[\"PostalCode\", \"Borough\", \"Neighbourhood\"])",
            "execution_count": 45,
            "outputs": []
        },
        {
            "metadata": {},
            "cell_type": "markdown",
            "source": "##### Get table from url. Wikipedia uses the class \"wikitable sortable\" to store the data we need"
        },
        {
            "metadata": {},
            "cell_type": "code",
            "source": "table = soup.find(\"table\", { \"class\" : \"wikitable sortable\" }).find_all(\"tr\")",
            "execution_count": 46,
            "outputs": []
        },
        {
            "metadata": {},
            "cell_type": "markdown",
            "source": "##### Only process the cells that have an assigned borough. Ignore cells with a borough that is Not assigned."
        },
        {
            "metadata": {},
            "cell_type": "code",
            "source": "for row in table:\n    col = row.find_all(\"td\")\n    if len(col) > 0:\n        cells = row.find_all(\"td\")\n        PostalCode = cells[0].get_text(strip=True) #strip = True removes \"\\n\" at the end of each text value\n        Borough = cells[1].get_text(strip=True)\n        Neighbourhood = cells[2].get_text(strip=True)\n        if(Borough != \"Not assigned\"): #we remove \"Not assigned\" boroughs\n            toronto_neighborhoods_source = toronto_neighborhoods_source.append({\"PostalCode\":PostalCode, \"Borough\":Borough, \"Neighbourhood\":Neighbourhood}, ignore_index=True)\n",
            "execution_count": 47,
            "outputs": []
        },
        {
            "metadata": {},
            "cell_type": "markdown",
            "source": "##### Check dataframe head"
        },
        {
            "metadata": {},
            "cell_type": "code",
            "source": "toronto_neighborhoods_source.head()",
            "execution_count": 48,
            "outputs": [
                {
                    "output_type": "execute_result",
                    "execution_count": 48,
                    "data": {
                        "text/plain": "  PostalCode           Borough                                Neighbourhood\n0        M3A        North York                                    Parkwoods\n1        M4A        North York                             Victoria Village\n2        M5A  Downtown Toronto                    Regent Park, Harbourfront\n3        M6A        North York             Lawrence Manor, Lawrence Heights\n4        M7A  Downtown Toronto  Queen's Park, Ontario Provincial Government",
                        "text/html": "<div>\n<style scoped>\n    .dataframe tbody tr th:only-of-type {\n        vertical-align: middle;\n    }\n\n    .dataframe tbody tr th {\n        vertical-align: top;\n    }\n\n    .dataframe thead th {\n        text-align: right;\n    }\n</style>\n<table border=\"1\" class=\"dataframe\">\n  <thead>\n    <tr style=\"text-align: right;\">\n      <th></th>\n      <th>PostalCode</th>\n      <th>Borough</th>\n      <th>Neighbourhood</th>\n    </tr>\n  </thead>\n  <tbody>\n    <tr>\n      <th>0</th>\n      <td>M3A</td>\n      <td>North York</td>\n      <td>Parkwoods</td>\n    </tr>\n    <tr>\n      <th>1</th>\n      <td>M4A</td>\n      <td>North York</td>\n      <td>Victoria Village</td>\n    </tr>\n    <tr>\n      <th>2</th>\n      <td>M5A</td>\n      <td>Downtown Toronto</td>\n      <td>Regent Park, Harbourfront</td>\n    </tr>\n    <tr>\n      <th>3</th>\n      <td>M6A</td>\n      <td>North York</td>\n      <td>Lawrence Manor, Lawrence Heights</td>\n    </tr>\n    <tr>\n      <th>4</th>\n      <td>M7A</td>\n      <td>Downtown Toronto</td>\n      <td>Queen's Park, Ontario Provincial Government</td>\n    </tr>\n  </tbody>\n</table>\n</div>"
                    },
                    "metadata": {}
                }
            ]
        },
        {
            "metadata": {},
            "cell_type": "markdown",
            "source": "##### More than one neighborhood can exist in one postal code area. For example, in the table on the Wikipedia page, you will notice that M5A is listed twice and has two neighborhoods: Harbourfront and Regent Park. These two rows will be combined into one row with the neighborhoods separated with a comma as shown in row 11  in the above table."
        },
        {
            "metadata": {},
            "cell_type": "code",
            "source": "if (sum(toronto_neighborhoods_source.groupby(['PostalCode']).count()[\"Borough\"]) == toronto_neighborhoods_source[\"PostalCode\"].count()) & next_step:\n    print(\"Already combined, go next step\")\nelse:\n    print(\"Somethin to do\")\n    next_step = False\n#Seems to be done in Wikipedia table, count of rows grouped by PostalCode = count of rows without groups",
            "execution_count": 69,
            "outputs": [
                {
                    "output_type": "stream",
                    "text": "Already combined, go next step\n",
                    "name": "stdout"
                }
            ]
        },
        {
            "metadata": {},
            "cell_type": "markdown",
            "source": "##### If a cell has a borough but a Not assigned  neighborhood, then the neighborhood will be the same as the borough."
        },
        {
            "metadata": {},
            "cell_type": "code",
            "source": "if (toronto_neighborhoods_source[toronto_neighborhoods_source[\"Neighbourhood\"] == \"Not assigned\"].count()[\"PostalCode\"]) == 0 & next_step:\n    print(\"No not assigned neighborhood\")\nelse:\n    print(\"Something to do\")\n    next_step = False\n#No \"Not assigned\" neighborhood with \"Assigned\" borough",
            "execution_count": 68,
            "outputs": [
                {
                    "output_type": "stream",
                    "text": "No not assigned neighborhood\n",
                    "name": "stdout"
                }
            ]
        },
        {
            "metadata": {},
            "cell_type": "code",
            "source": "",
            "execution_count": null,
            "outputs": []
        }
    ],
    "metadata": {
        "kernelspec": {
            "name": "python3",
            "display_name": "Python 3.7",
            "language": "python"
        },
        "language_info": {
            "name": "python",
            "version": "3.7.9",
            "mimetype": "text/x-python",
            "codemirror_mode": {
                "name": "ipython",
                "version": 3
            },
            "pygments_lexer": "ipython3",
            "nbconvert_exporter": "python",
            "file_extension": ".py"
        }
    },
    "nbformat": 4,
    "nbformat_minor": 1
}